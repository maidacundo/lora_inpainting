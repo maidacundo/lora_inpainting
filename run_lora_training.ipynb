{
 "cells": [
  {
   "cell_type": "markdown",
   "metadata": {},
   "source": [
    "## Requirements & Setup"
   ]
  },
  {
   "cell_type": "code",
   "execution_count": 1,
   "metadata": {},
   "outputs": [],
   "source": [
    "%load_ext autoreload\n",
    "%autoreload 2"
   ]
  },
  {
   "cell_type": "code",
   "execution_count": 2,
   "metadata": {},
   "outputs": [
    {
     "name": "stderr",
     "output_type": "stream",
     "text": [
      "\n",
      "[notice] A new release of pip is available: 23.2.1 -> 23.3.1\n",
      "[notice] To update, run: python.exe -m pip install --upgrade pip\n"
     ]
    }
   ],
   "source": [
    "!pip install -q -r requirements.txt"
   ]
  },
  {
   "cell_type": "markdown",
   "metadata": {},
   "source": [
    "## Config & Training "
   ]
  },
  {
   "cell_type": "code",
   "execution_count": 7,
   "metadata": {},
   "outputs": [],
   "source": [
    "from huggingface_hub import hf_hub_download\n",
    "\n",
    "realistic_vision_path = hf_hub_download(repo_id=\"SG161222/Realistic_Vision_V5.1_noVAE\", filename=\"Realistic_Vision_V5.1-inpainting.safetensors\")\n",
    "vae_path = hf_hub_download(repo_id=\"stabilityai/sd-vae-ft-mse-original\", filename=\"vae-ft-mse-840000-ema-pruned.safetensors\")"
   ]
  },
  {
   "cell_type": "code",
   "execution_count": 10,
   "metadata": {},
   "outputs": [],
   "source": [
    "from src.config import DatasetConfig, Config, ModelConfig, WandbConfig, EvaluationConfig\n",
    "\n",
    "dataset = DatasetConfig(\n",
    "    roboflow_api_key='HNXIsW3WwnidNDQZHexX',\n",
    "    roboflow_workspace='arked',\n",
    "    project_name='kvist_windows',\n",
    "    dataset_version=1,\n",
    ")\n",
    "\n",
    "model_config = ModelConfig(\n",
    "    model_path=realistic_vision_path,\n",
    "    vae_path=vae_path,\n",
    ")\n",
    "\n",
    "wandb_config = WandbConfig(\n",
    "    project_name='kvist_windows',\n",
    ")\n",
    "\n",
    "eval=EvaluationConfig(\n",
    "    prompts=['kvist windows'],\n",
    ")\n",
    "\n",
    "config = Config(\n",
    "    dataset=dataset,\n",
    "    model=model_config,\n",
    "    wandb=wandb_config,\n",
    "    eval=eval\n",
    ")\n",
    "\n",
    "config.train.checkpoint_folder = wandb_config.project_name + \"_checkpoints\""
   ]
  },
  {
   "cell_type": "code",
   "execution_count": 12,
   "metadata": {},
   "outputs": [
    {
     "ename": "KeyboardInterrupt",
     "evalue": "",
     "output_type": "error",
     "traceback": [
      "\u001b[1;31m---------------------------------------------------------------------------\u001b[0m",
      "\u001b[1;31mKeyboardInterrupt\u001b[0m                         Traceback (most recent call last)",
      "\u001b[1;32mc:\\Users\\Facundo\\Desktop\\ARKED\\training\\inpainting_training\\lora_inpainting\\run_lora_training.ipynb Cell 8\u001b[0m line \u001b[0;36m1\n\u001b[1;32m----> <a href='vscode-notebook-cell:/c%3A/Users/Facundo/Desktop/ARKED/training/inpainting_training/lora_inpainting/run_lora_training.ipynb#X10sZmlsZQ%3D%3D?line=0'>1</a>\u001b[0m \u001b[39mfrom\u001b[39;00m \u001b[39msrc\u001b[39;00m\u001b[39m.\u001b[39;00m\u001b[39mtraining\u001b[39;00m \u001b[39mimport\u001b[39;00m train\n\u001b[0;32m      <a href='vscode-notebook-cell:/c%3A/Users/Facundo/Desktop/ARKED/training/inpainting_training/lora_inpainting/run_lora_training.ipynb#X10sZmlsZQ%3D%3D?line=2'>3</a>\u001b[0m train(config)\n",
      "File \u001b[1;32mc:\\Users\\Facundo\\Desktop\\ARKED\\training\\inpainting_training\\lora_inpainting\\src\\training.py:3\u001b[0m\n\u001b[0;32m      1\u001b[0m \u001b[39mimport\u001b[39;00m \u001b[39mos\u001b[39;00m\n\u001b[0;32m      2\u001b[0m \u001b[39mimport\u001b[39;00m \u001b[39mitertools\u001b[39;00m\n\u001b[1;32m----> 3\u001b[0m \u001b[39mimport\u001b[39;00m \u001b[39mwandb\u001b[39;00m\n\u001b[0;32m      4\u001b[0m \u001b[39mimport\u001b[39;00m \u001b[39mmath\u001b[39;00m\n\u001b[0;32m      5\u001b[0m \u001b[39mfrom\u001b[39;00m \u001b[39mtqdm\u001b[39;00m \u001b[39mimport\u001b[39;00m tqdm\n",
      "File \u001b[1;32mc:\\Users\\Facundo\\AppData\\Local\\Programs\\Python\\Python310\\lib\\site-packages\\wandb\\__init__.py:26\u001b[0m\n\u001b[0;32m     23\u001b[0m \u001b[39m# This needs to be early as other modules call it.\u001b[39;00m\n\u001b[0;32m     24\u001b[0m \u001b[39mfrom\u001b[39;00m \u001b[39mwandb\u001b[39;00m\u001b[39m.\u001b[39;00m\u001b[39merrors\u001b[39;00m\u001b[39m.\u001b[39;00m\u001b[39mterm\u001b[39;00m \u001b[39mimport\u001b[39;00m termsetup, termlog, termerror, termwarn\n\u001b[1;32m---> 26\u001b[0m \u001b[39mfrom\u001b[39;00m \u001b[39mwandb\u001b[39;00m \u001b[39mimport\u001b[39;00m sdk \u001b[39mas\u001b[39;00m wandb_sdk\n\u001b[0;32m     28\u001b[0m \u001b[39mimport\u001b[39;00m \u001b[39mwandb\u001b[39;00m\n\u001b[0;32m     30\u001b[0m wandb\u001b[39m.\u001b[39mwandb_lib \u001b[39m=\u001b[39m wandb_sdk\u001b[39m.\u001b[39mlib\n",
      "File \u001b[1;32mc:\\Users\\Facundo\\AppData\\Local\\Programs\\Python\\Python310\\lib\\site-packages\\wandb\\sdk\\__init__.py:5\u001b[0m\n\u001b[0;32m      3\u001b[0m \u001b[39mfrom\u001b[39;00m \u001b[39m.\u001b[39;00m \u001b[39mimport\u001b[39;00m wandb_helper \u001b[39mas\u001b[39;00m helper  \u001b[39m# noqa: F401\u001b[39;00m\n\u001b[0;32m      4\u001b[0m \u001b[39mfrom\u001b[39;00m \u001b[39m.\u001b[39;00m\u001b[39mwandb_alerts\u001b[39;00m \u001b[39mimport\u001b[39;00m AlertLevel  \u001b[39m# noqa: F401\u001b[39;00m\n\u001b[1;32m----> 5\u001b[0m \u001b[39mfrom\u001b[39;00m \u001b[39m.\u001b[39;00m\u001b[39mwandb_artifacts\u001b[39;00m \u001b[39mimport\u001b[39;00m Artifact  \u001b[39m# noqa: F401\u001b[39;00m\n\u001b[0;32m      6\u001b[0m \u001b[39mfrom\u001b[39;00m \u001b[39m.\u001b[39;00m\u001b[39mwandb_config\u001b[39;00m \u001b[39mimport\u001b[39;00m Config  \u001b[39m# noqa: F401\u001b[39;00m\n\u001b[0;32m      7\u001b[0m \u001b[39mfrom\u001b[39;00m \u001b[39m.\u001b[39;00m\u001b[39mwandb_init\u001b[39;00m \u001b[39mimport\u001b[39;00m _attach, init  \u001b[39m# noqa: F401\u001b[39;00m\n",
      "File \u001b[1;32mc:\\Users\\Facundo\\AppData\\Local\\Programs\\Python\\Python310\\lib\\site-packages\\wandb\\sdk\\wandb_artifacts.py:33\u001b[0m\n\u001b[0;32m     31\u001b[0m \u001b[39mimport\u001b[39;00m \u001b[39mwandb\u001b[39;00m\u001b[39m.\u001b[39;00m\u001b[39mdata_types\u001b[39;00m \u001b[39mas\u001b[39;00m \u001b[39mdata_types\u001b[39;00m\n\u001b[0;32m     32\u001b[0m \u001b[39mfrom\u001b[39;00m \u001b[39mwandb\u001b[39;00m \u001b[39mimport\u001b[39;00m env, util\n\u001b[1;32m---> 33\u001b[0m \u001b[39mfrom\u001b[39;00m \u001b[39mwandb\u001b[39;00m\u001b[39m.\u001b[39;00m\u001b[39mapis\u001b[39;00m \u001b[39mimport\u001b[39;00m InternalApi, PublicApi\n\u001b[0;32m     34\u001b[0m \u001b[39mfrom\u001b[39;00m \u001b[39mwandb\u001b[39;00m\u001b[39m.\u001b[39;00m\u001b[39mapis\u001b[39;00m\u001b[39m.\u001b[39;00m\u001b[39mpublic\u001b[39;00m \u001b[39mimport\u001b[39;00m Artifact \u001b[39mas\u001b[39;00m PublicArtifact\n\u001b[0;32m     35\u001b[0m \u001b[39mfrom\u001b[39;00m \u001b[39mwandb\u001b[39;00m\u001b[39m.\u001b[39;00m\u001b[39merrors\u001b[39;00m \u001b[39mimport\u001b[39;00m CommError\n",
      "File \u001b[1;32mc:\\Users\\Facundo\\AppData\\Local\\Programs\\Python\\Python310\\lib\\site-packages\\wandb\\apis\\__init__.py:42\u001b[0m\n\u001b[0;32m     37\u001b[0m     _disable_ssl()\n\u001b[0;32m     40\u001b[0m reset_path \u001b[39m=\u001b[39m util\u001b[39m.\u001b[39mvendor_setup()\n\u001b[1;32m---> 42\u001b[0m \u001b[39mfrom\u001b[39;00m \u001b[39m.\u001b[39;00m\u001b[39minternal\u001b[39;00m \u001b[39mimport\u001b[39;00m Api \u001b[39mas\u001b[39;00m InternalApi  \u001b[39m# noqa\u001b[39;00m\n\u001b[0;32m     43\u001b[0m \u001b[39mfrom\u001b[39;00m \u001b[39m.\u001b[39;00m\u001b[39mpublic\u001b[39;00m \u001b[39mimport\u001b[39;00m Api \u001b[39mas\u001b[39;00m PublicApi  \u001b[39m# noqa\u001b[39;00m\n\u001b[0;32m     45\u001b[0m reset_path()\n",
      "File \u001b[1;32mc:\\Users\\Facundo\\AppData\\Local\\Programs\\Python\\Python310\\lib\\site-packages\\wandb\\apis\\internal.py:1\u001b[0m\n\u001b[1;32m----> 1\u001b[0m \u001b[39mfrom\u001b[39;00m \u001b[39mwandb\u001b[39;00m\u001b[39m.\u001b[39;00m\u001b[39msdk\u001b[39;00m\u001b[39m.\u001b[39;00m\u001b[39minternal\u001b[39;00m\u001b[39m.\u001b[39;00m\u001b[39minternal_api\u001b[39;00m \u001b[39mimport\u001b[39;00m Api \u001b[39mas\u001b[39;00m InternalApi\n\u001b[0;32m      4\u001b[0m \u001b[39mclass\u001b[39;00m \u001b[39mApi\u001b[39;00m:\n\u001b[0;32m      5\u001b[0m \u001b[39m    \u001b[39m\u001b[39m\"\"\"Internal proxy to the official internal API.\"\"\"\u001b[39;00m\n",
      "File \u001b[1;32mc:\\Users\\Facundo\\AppData\\Local\\Programs\\Python\\Python310\\lib\\site-packages\\wandb\\sdk\\internal\\internal_api.py:47\u001b[0m\n\u001b[0;32m     45\u001b[0m \u001b[39mfrom\u001b[39;00m \u001b[39m.\u001b[39;00m\u001b[39m.\u001b[39;00m\u001b[39mlib\u001b[39;00m \u001b[39mimport\u001b[39;00m retry\n\u001b[0;32m     46\u001b[0m \u001b[39mfrom\u001b[39;00m \u001b[39m.\u001b[39;00m\u001b[39m.\u001b[39;00m\u001b[39mlib\u001b[39;00m\u001b[39m.\u001b[39;00m\u001b[39mfilenames\u001b[39;00m \u001b[39mimport\u001b[39;00m DIFF_FNAME, METADATA_FNAME\n\u001b[1;32m---> 47\u001b[0m \u001b[39mfrom\u001b[39;00m \u001b[39m.\u001b[39;00m\u001b[39m.\u001b[39;00m\u001b[39mlib\u001b[39;00m\u001b[39m.\u001b[39;00m\u001b[39mgit\u001b[39;00m \u001b[39mimport\u001b[39;00m GitRepo\n\u001b[0;32m     48\u001b[0m \u001b[39mfrom\u001b[39;00m \u001b[39m.\u001b[39;00m \u001b[39mimport\u001b[39;00m context\n\u001b[0;32m     49\u001b[0m \u001b[39mfrom\u001b[39;00m \u001b[39m.\u001b[39;00m\u001b[39mprogress\u001b[39;00m \u001b[39mimport\u001b[39;00m AsyncProgress, Progress\n",
      "File \u001b[1;32mc:\\Users\\Facundo\\AppData\\Local\\Programs\\Python\\Python310\\lib\\site-packages\\wandb\\sdk\\lib\\git.py:217\u001b[0m\n\u001b[0;32m    213\u001b[0m         \u001b[39mreturn\u001b[39;00m \u001b[39mNone\u001b[39;00m\n\u001b[0;32m    216\u001b[0m \u001b[39mtry\u001b[39;00m:\n\u001b[1;32m--> 217\u001b[0m     \u001b[39mfrom\u001b[39;00m \u001b[39mgit\u001b[39;00m \u001b[39mimport\u001b[39;00m Repo, exc  \u001b[39m# type: ignore\u001b[39;00m\n\u001b[0;32m    218\u001b[0m \u001b[39mexcept\u001b[39;00m \u001b[39mImportError\u001b[39;00m:  \u001b[39m# import fails if user doesn't have git\u001b[39;00m\n\u001b[0;32m    219\u001b[0m     GitRepo \u001b[39m=\u001b[39m FakeGitRepo  \u001b[39m# type: ignore\u001b[39;00m\n",
      "File \u001b[1;32mc:\\Users\\Facundo\\AppData\\Local\\Programs\\Python\\Python310\\lib\\site-packages\\git\\__init__.py:89\u001b[0m\n\u001b[0;32m     84\u001b[0m \u001b[39m# } END initialize git executable path\u001b[39;00m\n\u001b[0;32m     85\u001b[0m \n\u001b[0;32m     86\u001b[0m \n\u001b[0;32m     87\u001b[0m \u001b[39m#################\u001b[39;00m\n\u001b[0;32m     88\u001b[0m \u001b[39mtry\u001b[39;00m:\n\u001b[1;32m---> 89\u001b[0m     refresh()\n\u001b[0;32m     90\u001b[0m \u001b[39mexcept\u001b[39;00m \u001b[39mException\u001b[39;00m \u001b[39mas\u001b[39;00m _exc:\n\u001b[0;32m     91\u001b[0m     \u001b[39mraise\u001b[39;00m \u001b[39mImportError\u001b[39;00m(\u001b[39m\"\u001b[39m\u001b[39mFailed to initialize: \u001b[39m\u001b[39m{0}\u001b[39;00m\u001b[39m\"\u001b[39m\u001b[39m.\u001b[39mformat(_exc)) \u001b[39mfrom\u001b[39;00m \u001b[39m_exc\u001b[39;00m\n",
      "File \u001b[1;32mc:\\Users\\Facundo\\AppData\\Local\\Programs\\Python\\Python310\\lib\\site-packages\\git\\__init__.py:78\u001b[0m, in \u001b[0;36mrefresh\u001b[1;34m(path)\u001b[0m\n\u001b[0;32m     76\u001b[0m \u001b[39mif\u001b[39;00m \u001b[39mnot\u001b[39;00m Git\u001b[39m.\u001b[39mrefresh(path\u001b[39m=\u001b[39mpath):\n\u001b[0;32m     77\u001b[0m     \u001b[39mreturn\u001b[39;00m\n\u001b[1;32m---> 78\u001b[0m \u001b[39mif\u001b[39;00m \u001b[39mnot\u001b[39;00m FetchInfo\u001b[39m.\u001b[39;49mrefresh():\n\u001b[0;32m     79\u001b[0m     \u001b[39mreturn\u001b[39;00m  \u001b[39m# type: ignore [unreachable]\u001b[39;00m\n\u001b[0;32m     81\u001b[0m GIT_OK \u001b[39m=\u001b[39m \u001b[39mTrue\u001b[39;00m\n",
      "File \u001b[1;32mc:\\Users\\Facundo\\AppData\\Local\\Programs\\Python\\Python310\\lib\\site-packages\\git\\remote.py:359\u001b[0m, in \u001b[0;36mFetchInfo.refresh\u001b[1;34m(cls)\u001b[0m\n\u001b[0;32m    356\u001b[0m     \u001b[39mpass\u001b[39;00m\n\u001b[0;32m    358\u001b[0m \u001b[39m# set the value given the git version\u001b[39;00m\n\u001b[1;32m--> 359\u001b[0m \u001b[39mif\u001b[39;00m Git()\u001b[39m.\u001b[39;49mversion_info[:\u001b[39m2\u001b[39m] \u001b[39m>\u001b[39m\u001b[39m=\u001b[39m (\u001b[39m2\u001b[39m, \u001b[39m10\u001b[39m):\n\u001b[0;32m    360\u001b[0m     \u001b[39mcls\u001b[39m\u001b[39m.\u001b[39m_flag_map[\u001b[39m\"\u001b[39m\u001b[39mt\u001b[39m\u001b[39m\"\u001b[39m] \u001b[39m=\u001b[39m \u001b[39mcls\u001b[39m\u001b[39m.\u001b[39mTAG_UPDATE\n\u001b[0;32m    361\u001b[0m \u001b[39melse\u001b[39;00m:\n",
      "File \u001b[1;32mc:\\Users\\Facundo\\AppData\\Local\\Programs\\Python\\Python310\\lib\\site-packages\\git\\cmd.py:779\u001b[0m, in \u001b[0;36mGit.version_info\u001b[1;34m(self)\u001b[0m\n\u001b[0;32m    773\u001b[0m \u001b[39m@property\u001b[39m\n\u001b[0;32m    774\u001b[0m \u001b[39mdef\u001b[39;00m \u001b[39mversion_info\u001b[39m(\u001b[39mself\u001b[39m) \u001b[39m-\u001b[39m\u001b[39m>\u001b[39m Tuple[\u001b[39mint\u001b[39m, \u001b[39mint\u001b[39m, \u001b[39mint\u001b[39m, \u001b[39mint\u001b[39m]:\n\u001b[0;32m    775\u001b[0m \u001b[39m    \u001b[39m\u001b[39m\"\"\"\u001b[39;00m\n\u001b[0;32m    776\u001b[0m \u001b[39m    :return: tuple(int, int, int, int) tuple with integers representing the major, minor\u001b[39;00m\n\u001b[0;32m    777\u001b[0m \u001b[39m        and additional version numbers as parsed from git version.\u001b[39;00m\n\u001b[0;32m    778\u001b[0m \u001b[39m        This value is generated on demand and is cached\"\"\"\u001b[39;00m\n\u001b[1;32m--> 779\u001b[0m     \u001b[39mreturn\u001b[39;00m \u001b[39mself\u001b[39;49m\u001b[39m.\u001b[39;49m_version_info\n",
      "File \u001b[1;32mc:\\Users\\Facundo\\AppData\\Local\\Programs\\Python\\Python310\\lib\\site-packages\\git\\cmd.py:738\u001b[0m, in \u001b[0;36mGit.__getattr__\u001b[1;34m(self, name)\u001b[0m\n\u001b[0;32m    733\u001b[0m \u001b[39m\u001b[39m\u001b[39m\"\"\"A convenience method as it allows to call the command as if it was\u001b[39;00m\n\u001b[0;32m    734\u001b[0m \u001b[39man object.\u001b[39;00m\n\u001b[0;32m    735\u001b[0m \n\u001b[0;32m    736\u001b[0m \u001b[39m:return: Callable object that will execute call _call_process with your arguments.\"\"\"\u001b[39;00m\n\u001b[0;32m    737\u001b[0m \u001b[39mif\u001b[39;00m name[\u001b[39m0\u001b[39m] \u001b[39m==\u001b[39m \u001b[39m\"\u001b[39m\u001b[39m_\u001b[39m\u001b[39m\"\u001b[39m:\n\u001b[1;32m--> 738\u001b[0m     \u001b[39mreturn\u001b[39;00m LazyMixin\u001b[39m.\u001b[39;49m\u001b[39m__getattr__\u001b[39;49m(\u001b[39mself\u001b[39;49m, name)\n\u001b[0;32m    739\u001b[0m \u001b[39mreturn\u001b[39;00m \u001b[39mlambda\u001b[39;00m \u001b[39m*\u001b[39margs, \u001b[39m*\u001b[39m\u001b[39m*\u001b[39mkwargs: \u001b[39mself\u001b[39m\u001b[39m.\u001b[39m_call_process(name, \u001b[39m*\u001b[39margs, \u001b[39m*\u001b[39m\u001b[39m*\u001b[39mkwargs)\n",
      "File \u001b[1;32mc:\\Users\\Facundo\\AppData\\Local\\Programs\\Python\\Python310\\lib\\site-packages\\gitdb\\util.py:253\u001b[0m, in \u001b[0;36mLazyMixin.__getattr__\u001b[1;34m(self, attr)\u001b[0m\n\u001b[0;32m    248\u001b[0m \u001b[39mdef\u001b[39;00m \u001b[39m__getattr__\u001b[39m(\u001b[39mself\u001b[39m, attr):\n\u001b[0;32m    249\u001b[0m \u001b[39m    \u001b[39m\u001b[39m\"\"\"\u001b[39;00m\n\u001b[0;32m    250\u001b[0m \u001b[39m    Whenever an attribute is requested that we do not know, we allow it\u001b[39;00m\n\u001b[0;32m    251\u001b[0m \u001b[39m    to be created and set. Next time the same attribute is requested, it is simply\u001b[39;00m\n\u001b[0;32m    252\u001b[0m \u001b[39m    returned from our dict/slots. \"\"\"\u001b[39;00m\n\u001b[1;32m--> 253\u001b[0m     \u001b[39mself\u001b[39;49m\u001b[39m.\u001b[39;49m_set_cache_(attr)\n\u001b[0;32m    254\u001b[0m     \u001b[39m# will raise in case the cache was not created\u001b[39;00m\n\u001b[0;32m    255\u001b[0m     \u001b[39mreturn\u001b[39;00m \u001b[39mobject\u001b[39m\u001b[39m.\u001b[39m\u001b[39m__getattribute__\u001b[39m(\u001b[39mself\u001b[39m, attr)\n",
      "File \u001b[1;32mc:\\Users\\Facundo\\AppData\\Local\\Programs\\Python\\Python310\\lib\\site-packages\\git\\cmd.py:757\u001b[0m, in \u001b[0;36mGit._set_cache_\u001b[1;34m(self, attr)\u001b[0m\n\u001b[0;32m    754\u001b[0m \u001b[39mdef\u001b[39;00m \u001b[39m_set_cache_\u001b[39m(\u001b[39mself\u001b[39m, attr: \u001b[39mstr\u001b[39m) \u001b[39m-\u001b[39m\u001b[39m>\u001b[39m \u001b[39mNone\u001b[39;00m:\n\u001b[0;32m    755\u001b[0m     \u001b[39mif\u001b[39;00m attr \u001b[39m==\u001b[39m \u001b[39m\"\u001b[39m\u001b[39m_version_info\u001b[39m\u001b[39m\"\u001b[39m:\n\u001b[0;32m    756\u001b[0m         \u001b[39m# We only use the first 4 numbers, as everything else could be strings in fact (on windows)\u001b[39;00m\n\u001b[1;32m--> 757\u001b[0m         process_version \u001b[39m=\u001b[39m \u001b[39mself\u001b[39;49m\u001b[39m.\u001b[39;49m_call_process(\u001b[39m\"\u001b[39;49m\u001b[39mversion\u001b[39;49m\u001b[39m\"\u001b[39;49m)  \u001b[39m# should be as default *args and **kwargs used\u001b[39;00m\n\u001b[0;32m    758\u001b[0m         version_numbers \u001b[39m=\u001b[39m process_version\u001b[39m.\u001b[39msplit(\u001b[39m\"\u001b[39m\u001b[39m \u001b[39m\u001b[39m\"\u001b[39m)[\u001b[39m2\u001b[39m]\n\u001b[0;32m    760\u001b[0m         \u001b[39mself\u001b[39m\u001b[39m.\u001b[39m_version_info \u001b[39m=\u001b[39m cast(\n\u001b[0;32m    761\u001b[0m             Tuple[\u001b[39mint\u001b[39m, \u001b[39mint\u001b[39m, \u001b[39mint\u001b[39m, \u001b[39mint\u001b[39m],\n\u001b[0;32m    762\u001b[0m             \u001b[39mtuple\u001b[39m(\u001b[39mint\u001b[39m(n) \u001b[39mfor\u001b[39;00m n \u001b[39min\u001b[39;00m version_numbers\u001b[39m.\u001b[39msplit(\u001b[39m\"\u001b[39m\u001b[39m.\u001b[39m\u001b[39m\"\u001b[39m)[:\u001b[39m4\u001b[39m] \u001b[39mif\u001b[39;00m n\u001b[39m.\u001b[39misdigit()),\n\u001b[0;32m    763\u001b[0m         )\n",
      "File \u001b[1;32mc:\\Users\\Facundo\\AppData\\Local\\Programs\\Python\\Python310\\lib\\site-packages\\git\\cmd.py:1315\u001b[0m, in \u001b[0;36mGit._call_process\u001b[1;34m(self, method, *args, **kwargs)\u001b[0m\n\u001b[0;32m   1312\u001b[0m call\u001b[39m.\u001b[39mappend(dashify(method))\n\u001b[0;32m   1313\u001b[0m call\u001b[39m.\u001b[39mextend(args_list)\n\u001b[1;32m-> 1315\u001b[0m \u001b[39mreturn\u001b[39;00m \u001b[39mself\u001b[39m\u001b[39m.\u001b[39mexecute(call, \u001b[39m*\u001b[39m\u001b[39m*\u001b[39mexec_kwargs)\n",
      "File \u001b[1;32mc:\\Users\\Facundo\\AppData\\Local\\Programs\\Python\\Python310\\lib\\site-packages\\git\\cmd.py:1056\u001b[0m, in \u001b[0;36mGit.execute\u001b[1;34m(self, command, istream, with_extended_output, with_exceptions, as_process, output_stream, stdout_as_string, kill_after_timeout, with_stdout, universal_newlines, shell, env, max_chunk_size, strip_newline_in_stdout, **subprocess_kwargs)\u001b[0m\n\u001b[0;32m   1054\u001b[0m \u001b[39mif\u001b[39;00m kill_after_timeout \u001b[39mis\u001b[39;00m \u001b[39mnot\u001b[39;00m \u001b[39mNone\u001b[39;00m:\n\u001b[0;32m   1055\u001b[0m     watchdog\u001b[39m.\u001b[39mstart()\n\u001b[1;32m-> 1056\u001b[0m stdout_value, stderr_value \u001b[39m=\u001b[39m proc\u001b[39m.\u001b[39;49mcommunicate()\n\u001b[0;32m   1057\u001b[0m \u001b[39mif\u001b[39;00m kill_after_timeout \u001b[39mis\u001b[39;00m \u001b[39mnot\u001b[39;00m \u001b[39mNone\u001b[39;00m:\n\u001b[0;32m   1058\u001b[0m     watchdog\u001b[39m.\u001b[39mcancel()\n",
      "File \u001b[1;32mc:\\Users\\Facundo\\AppData\\Local\\Programs\\Python\\Python310\\lib\\subprocess.py:1152\u001b[0m, in \u001b[0;36mPopen.communicate\u001b[1;34m(self, input, timeout)\u001b[0m\n\u001b[0;32m   1149\u001b[0m     endtime \u001b[39m=\u001b[39m \u001b[39mNone\u001b[39;00m\n\u001b[0;32m   1151\u001b[0m \u001b[39mtry\u001b[39;00m:\n\u001b[1;32m-> 1152\u001b[0m     stdout, stderr \u001b[39m=\u001b[39m \u001b[39mself\u001b[39;49m\u001b[39m.\u001b[39;49m_communicate(\u001b[39minput\u001b[39;49m, endtime, timeout)\n\u001b[0;32m   1153\u001b[0m \u001b[39mexcept\u001b[39;00m \u001b[39mKeyboardInterrupt\u001b[39;00m:\n\u001b[0;32m   1154\u001b[0m     \u001b[39m# https://bugs.python.org/issue25942\u001b[39;00m\n\u001b[0;32m   1155\u001b[0m     \u001b[39m# See the detailed comment in .wait().\u001b[39;00m\n\u001b[0;32m   1156\u001b[0m     \u001b[39mif\u001b[39;00m timeout \u001b[39mis\u001b[39;00m \u001b[39mnot\u001b[39;00m \u001b[39mNone\u001b[39;00m:\n",
      "File \u001b[1;32mc:\\Users\\Facundo\\AppData\\Local\\Programs\\Python\\Python310\\lib\\subprocess.py:1526\u001b[0m, in \u001b[0;36mPopen._communicate\u001b[1;34m(self, input, endtime, orig_timeout)\u001b[0m\n\u001b[0;32m   1522\u001b[0m \u001b[39m# Wait for the reader threads, or time out.  If we time out, the\u001b[39;00m\n\u001b[0;32m   1523\u001b[0m \u001b[39m# threads remain reading and the fds left open in case the user\u001b[39;00m\n\u001b[0;32m   1524\u001b[0m \u001b[39m# calls communicate again.\u001b[39;00m\n\u001b[0;32m   1525\u001b[0m \u001b[39mif\u001b[39;00m \u001b[39mself\u001b[39m\u001b[39m.\u001b[39mstdout \u001b[39mis\u001b[39;00m \u001b[39mnot\u001b[39;00m \u001b[39mNone\u001b[39;00m:\n\u001b[1;32m-> 1526\u001b[0m     \u001b[39mself\u001b[39;49m\u001b[39m.\u001b[39;49mstdout_thread\u001b[39m.\u001b[39;49mjoin(\u001b[39mself\u001b[39;49m\u001b[39m.\u001b[39;49m_remaining_time(endtime))\n\u001b[0;32m   1527\u001b[0m     \u001b[39mif\u001b[39;00m \u001b[39mself\u001b[39m\u001b[39m.\u001b[39mstdout_thread\u001b[39m.\u001b[39mis_alive():\n\u001b[0;32m   1528\u001b[0m         \u001b[39mraise\u001b[39;00m TimeoutExpired(\u001b[39mself\u001b[39m\u001b[39m.\u001b[39margs, orig_timeout)\n",
      "File \u001b[1;32mc:\\Users\\Facundo\\AppData\\Local\\Programs\\Python\\Python310\\lib\\threading.py:1096\u001b[0m, in \u001b[0;36mThread.join\u001b[1;34m(self, timeout)\u001b[0m\n\u001b[0;32m   1093\u001b[0m     \u001b[39mraise\u001b[39;00m \u001b[39mRuntimeError\u001b[39;00m(\u001b[39m\"\u001b[39m\u001b[39mcannot join current thread\u001b[39m\u001b[39m\"\u001b[39m)\n\u001b[0;32m   1095\u001b[0m \u001b[39mif\u001b[39;00m timeout \u001b[39mis\u001b[39;00m \u001b[39mNone\u001b[39;00m:\n\u001b[1;32m-> 1096\u001b[0m     \u001b[39mself\u001b[39;49m\u001b[39m.\u001b[39;49m_wait_for_tstate_lock()\n\u001b[0;32m   1097\u001b[0m \u001b[39melse\u001b[39;00m:\n\u001b[0;32m   1098\u001b[0m     \u001b[39m# the behavior of a negative timeout isn't documented, but\u001b[39;00m\n\u001b[0;32m   1099\u001b[0m     \u001b[39m# historically .join(timeout=x) for x<0 has acted as if timeout=0\u001b[39;00m\n\u001b[0;32m   1100\u001b[0m     \u001b[39mself\u001b[39m\u001b[39m.\u001b[39m_wait_for_tstate_lock(timeout\u001b[39m=\u001b[39m\u001b[39mmax\u001b[39m(timeout, \u001b[39m0\u001b[39m))\n",
      "File \u001b[1;32mc:\\Users\\Facundo\\AppData\\Local\\Programs\\Python\\Python310\\lib\\threading.py:1116\u001b[0m, in \u001b[0;36mThread._wait_for_tstate_lock\u001b[1;34m(self, block, timeout)\u001b[0m\n\u001b[0;32m   1113\u001b[0m     \u001b[39mreturn\u001b[39;00m\n\u001b[0;32m   1115\u001b[0m \u001b[39mtry\u001b[39;00m:\n\u001b[1;32m-> 1116\u001b[0m     \u001b[39mif\u001b[39;00m lock\u001b[39m.\u001b[39;49macquire(block, timeout):\n\u001b[0;32m   1117\u001b[0m         lock\u001b[39m.\u001b[39mrelease()\n\u001b[0;32m   1118\u001b[0m         \u001b[39mself\u001b[39m\u001b[39m.\u001b[39m_stop()\n",
      "\u001b[1;31mKeyboardInterrupt\u001b[0m: "
     ]
    }
   ],
   "source": [
    "from src.training import train\n",
    "\n",
    "train(config)"
   ]
  }
 ],
 "metadata": {
  "kernelspec": {
   "display_name": ".venv",
   "language": "python",
   "name": "python3"
  },
  "language_info": {
   "codemirror_mode": {
    "name": "ipython",
    "version": 3
   },
   "file_extension": ".py",
   "mimetype": "text/x-python",
   "name": "python",
   "nbconvert_exporter": "python",
   "pygments_lexer": "ipython3",
   "version": "3.10.6"
  }
 },
 "nbformat": 4,
 "nbformat_minor": 2
}
