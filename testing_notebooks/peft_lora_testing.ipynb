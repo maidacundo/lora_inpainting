{
 "cells": [
  {
   "cell_type": "code",
   "execution_count": null,
   "metadata": {},
   "outputs": [],
   "source": [
    "!pip install transformers diffusers accelerate peft"
   ]
  },
  {
   "cell_type": "code",
   "execution_count": 1,
   "metadata": {},
   "outputs": [],
   "source": [
    "def print_trainable_parameters(model):\n",
    "    \"\"\"\n",
    "    Prints the number of trainable parameters in the model.\n",
    "    \"\"\"\n",
    "    trainable_params = 0\n",
    "    all_param = 0\n",
    "    for _, param in model.named_parameters():\n",
    "        all_param += param.numel()\n",
    "        if param.requires_grad:\n",
    "            trainable_params += param.numel()\n",
    "    print(\n",
    "        f\"trainable params: {trainable_params} || all params: {all_param} || trainable%: {100 * trainable_params / all_param}\"\n",
    "    )\n"
   ]
  },
  {
   "cell_type": "code",
   "execution_count": 2,
   "metadata": {},
   "outputs": [],
   "source": [
    "from huggingface_hub import hf_hub_download\n",
    "\n",
    "realistic_vision_path = hf_hub_download(repo_id=\"SG161222/Realistic_Vision_V5.1_noVAE\", filename=\"Realistic_Vision_V5.1-inpainting.safetensors\")\n",
    "vae_path = hf_hub_download(repo_id=\"stabilityai/sd-vae-ft-mse-original\", filename=\"vae-ft-mse-840000-ema-pruned.safetensors\")"
   ]
  },
  {
   "cell_type": "code",
   "execution_count": 3,
   "metadata": {},
   "outputs": [],
   "source": [
    "import sys\n",
    "sys.path.append('../src')"
   ]
  },
  {
   "cell_type": "code",
   "execution_count": 4,
   "metadata": {},
   "outputs": [],
   "source": [
    "from config import DatasetConfig, Config, ModelConfig, WandbConfig, EvaluationConfig, TrainConfig\n",
    "\n",
    "dataset_config = DatasetConfig(\n",
    "    roboflow_api_key='HNXIsW3WwnidNDQZHexX',\n",
    "    roboflow_workspace='arked',\n",
    "    project_name='facades-flzke',\n",
    "    dataset_version=11,\n",
    "    data_root='facades_data',\n",
    "    image_size=512,\n",
    ")\n",
    "\n",
    "model_config = ModelConfig(\n",
    "    model_path=realistic_vision_path,\n",
    "    vae_path=vae_path,\n",
    ")\n",
    "\n",
    "wandb_config = WandbConfig(\n",
    "    project_name='facades',\n",
    ")\n",
    "\n",
    "eval_config=EvaluationConfig(\n",
    "    prompts=['white facade', 'brick facade'],\n",
    ")\n",
    "\n",
    "train_config=TrainConfig(\n",
    "    checkpoint_folder = wandb_config.project_name + \"_checkpoints\",\n",
    "    train_batch_size = 4,\n",
    "    unet_lr=1e-4,\n",
    "    text_encoder_lr=1e-4,\n",
    "    scheduler_num_cycles=4,\n",
    "    total_steps=1000,\n",
    ")\n",
    "\n",
    "config = Config(\n",
    "    dataset=dataset_config,\n",
    "    model=model_config,\n",
    "    wandb=wandb_config,\n",
    "    eval=eval_config,\n",
    "    train=train_config,\n",
    ")"
   ]
  },
  {
   "cell_type": "code",
   "execution_count": 5,
   "metadata": {},
   "outputs": [
    {
     "name": "stdout",
     "output_type": "stream",
     "text": [
      "loading VAE...\n",
      "loading model...\n"
     ]
    },
    {
     "name": "stderr",
     "output_type": "stream",
     "text": [
      "`text_config_dict` is provided which will be used to initialize `CLIPTextConfig`. The value `text_config[\"id2label\"]` will be overriden.\n",
      "c:\\Users\\Facundo\\AppData\\Local\\Programs\\Python\\Python310\\lib\\site-packages\\transformers\\models\\clip\\feature_extraction_clip.py:28: FutureWarning: The class CLIPFeatureExtractor is deprecated and will be removed in version 5 of Transformers. Please use CLIPImageProcessor instead.\n",
      "  warnings.warn(\n"
     ]
    }
   ],
   "source": [
    "from model import get_models\n",
    "\n",
    "text_encoder, vae, unet, tokenizer, noise_scheduler, placeholder_token_ids = get_models(\n",
    "    config.model.model_path,\n",
    "    config.model.vae_path,\n",
    "    device=config.device,\n",
    "    load_from_safetensor=True,\n",
    ")"
   ]
  },
  {
   "cell_type": "code",
   "execution_count": 9,
   "metadata": {},
   "outputs": [],
   "source": [
    "from peft import LoraConfig, LoraModel\n",
    "\n",
    "UNET_DEFAULT_TARGET_REPLACE = {\"CrossAttention\", \"Attention\", \"GEGLU\"}\n",
    "UNET_TARGET_MODULES = [\"to_q\", \"to_v\", \"to_k\", \"to_out.0\", \"ff.net.0.proj\"] #, \"proj_in\", \"conv1\", \"conv2\"]\n",
    "\n",
    "config = LoraConfig(\n",
    "    r=8,\n",
    "    lora_alpha=32,\n",
    "    target_modules=UNET_TARGET_MODULES,\n",
    "    lora_dropout=0.1,\n",
    "    bias='none',\n",
    ")"
   ]
  },
  {
   "cell_type": "code",
   "execution_count": 10,
   "metadata": {},
   "outputs": [],
   "source": [
    "unet_lora = LoraModel(unet, config, \"default\")"
   ]
  },
  {
   "cell_type": "code",
   "execution_count": 11,
   "metadata": {},
   "outputs": [
    {
     "name": "stdout",
     "output_type": "stream",
     "text": [
      "trainable params: 2492928 || all params: 862028292 || trainable%: 0.28919329250970804\n"
     ]
    }
   ],
   "source": [
    "print_trainable_parameters(unet_lora)"
   ]
  }
 ],
 "metadata": {
  "kernelspec": {
   "display_name": "Python 3",
   "language": "python",
   "name": "python3"
  },
  "language_info": {
   "codemirror_mode": {
    "name": "ipython",
    "version": 3
   },
   "file_extension": ".py",
   "mimetype": "text/x-python",
   "name": "python",
   "nbconvert_exporter": "python",
   "pygments_lexer": "ipython3",
   "version": "3.10.6"
  }
 },
 "nbformat": 4,
 "nbformat_minor": 2
}
